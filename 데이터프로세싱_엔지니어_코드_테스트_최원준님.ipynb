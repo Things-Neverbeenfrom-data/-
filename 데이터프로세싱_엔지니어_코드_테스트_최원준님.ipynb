{
  "nbformat": 4,
  "nbformat_minor": 0,
  "metadata": {
    "colab": {
      "name": "데이터프로세싱 엔지니어 코드 테스트_최원준님",
      "provenance": [],
      "collapsed_sections": [],
      "toc_visible": true,
      "include_colab_link": true
    },
    "kernelspec": {
      "name": "python3",
      "display_name": "Python 3"
    },
    "language_info": {
      "name": "python"
    }
  },
  "cells": [
    {
      "cell_type": "markdown",
      "metadata": {
        "id": "view-in-github",
        "colab_type": "text"
      },
      "source": [
        "<a href=\"https://colab.research.google.com/github/Things-Neverbeenfrom-data/-/blob/main/%EB%8D%B0%EC%9D%B4%ED%84%B0%ED%94%84%EB%A1%9C%EC%84%B8%EC%8B%B1_%EC%97%94%EC%A7%80%EB%8B%88%EC%96%B4_%EC%BD%94%EB%93%9C_%ED%85%8C%EC%8A%A4%ED%8A%B8_%EC%B5%9C%EC%9B%90%EC%A4%80%EB%8B%98.ipynb\" target=\"_parent\"><img src=\"https://colab.research.google.com/assets/colab-badge.svg\" alt=\"Open In Colab\"/></a>"
      ]
    },
    {
      "cell_type": "markdown",
      "metadata": {
        "id": "KfXSiR5W4AJh"
      },
      "source": [
        "# *** *! 문제 파일, 예시 입출력 파일 다운로드 부분은 해당 내용을 실행을 해야 다운로드되도록 되어 있습니다. 실행하셔서 다운로드 받으세요 !* ***"
      ]
    },
    {
      "cell_type": "markdown",
      "metadata": {
        "id": "x9cEEACkPwAh"
      },
      "source": [
        "**1\\. csv 파일 내용을 json 파일 형식으로 변환하는 Python 코드를 작성하는 문제입니다.** \n",
        "* 결과 json 형식 구성은, \n",
        "* 아래 \\[샘플 1\\]에\\ 예시 파일을 다운로드해서 제시된 csv 파일과 변환 결과 json 형식을 비교해서 파악할 수 있으며, \n",
        "* key는 data_idx로, value로는 list 형태로 나머지 column을 key로 하고, 그 row들을 value로 해서 구성합니다.<br>\n",
        "* json 파일의 문자 인코딩은 UTF-8 입니다.\n",
        "\n",
        "위에 설명된 샘플 파일을 참고해서, \\[문제 1\\] 부분을 실행시켜, problem_1_input.csv 파일을 다운로드한 후, [결과물 제출] 부분에 json 파일을 생성하는 코드를 작성하세요. \n"
      ]
    },
    {
      "cell_type": "code",
      "metadata": {
        "id": "_4tWqXFyyoWk"
      },
      "source": [
        "# [샘플 1]\n",
        "# 해당 부분 실행 후, 예시 입출력 파일을 확인해보실 수 있습니다.\n",
        "# 생성한 파일은 화면 왼쪽 아이콘 메뉴 중 폴더 모양 아이콘에서 확인할 수 있습니다. (위치: /content)\n",
        "\n",
        "!wget https://storage.googleapis.com/cw-downloads/coding_test/problem_1_sample_input.csv\n",
        "!wget https://storage.googleapis.com/cw-downloads/coding_test/problem_1_sample_output.json"
      ],
      "execution_count": null,
      "outputs": []
    },
    {
      "cell_type": "code",
      "metadata": {
        "id": "ibTUdL36zt9W"
      },
      "source": [
        "# [문제 1]\n",
        "# csv 파일 다운로드 실행 명령어\n",
        "!wget https://storage.googleapis.com/cw-downloads/coding_test/problem_1_input.csv"
      ],
      "execution_count": null,
      "outputs": []
    },
    {
      "cell_type": "code",
      "metadata": {
        "id": "acpCkBTpYg5e",
        "colab": {
          "base_uri": "https://localhost:8080/"
        },
        "outputId": "1b635d99-b1e2-4c7a-cc0a-9f89cc6c7506"
      },
      "source": [
        "# [결과물 제출] 여기에 자유롭게 코드를 작성해서 수행하시면 됩니다.\n",
        "\n",
        "import pandas as pd\n",
        "import numpy as np\n",
        "\n",
        "import csv\n",
        "import json\n",
        "input_file_path = '/content/problem_1_input.csv'\n",
        "\n",
        "\n",
        "\n",
        "\n",
        "def convert_to_json(csvFilePath,jsonFilePath):\n",
        "\n",
        "    data={}\n",
        "    with open(csvFilePath,encoding=\"utf-8\") as csvf:\n",
        "\n",
        "        csvReader=csv.DictReader(csvf)\n",
        "        \n",
        "        for rows in csvReader:\n",
        "            key=rows['data_id']\n",
        "            if key in data:\n",
        "                del(rows['data_id'])\n",
        "                data[key].append([rows])\n",
        "            else:\n",
        "                del(rows['data_id'])\n",
        "                data[key]=[rows]\n",
        "        \n",
        "        print(\"key=\",key)\n",
        "    with open(jsonFilePath,'w',encoding=\"utf-8\") as jsonf:\n",
        "        jsonf.write(json.dumps(data,indent='\\t',ensure_ascii=False))\n",
        "    print(data)\n",
        "\n",
        "csvFilePath=r'/content/problem_1_input.csv'\n",
        "jsonFilePath=r'/content/problem_1_output.json'\n",
        "\n",
        "convert_to_json(csvFilePath,jsonFilePath)\n",
        "\n",
        "\n",
        "\n",
        "\n",
        "\n",
        "\n"
      ],
      "execution_count": null,
      "outputs": [
        {
          "output_type": "stream",
          "name": "stdout",
          "text": [
            "key= 30091656\n",
            "{'29704982': [OrderedDict([('성별', '암컷'), ('나이(개월)', '360'), ('촬영 장소', '실내')]), [OrderedDict([('성별', '암컷'), ('나이(개월)', '198'), ('촬영 장소', '실외')])], [OrderedDict([('성별', '수컷'), ('나이(개월)', '60'), ('촬영 장소', '실내')])], [OrderedDict([('성별', '수컷'), ('나이(개월)', '72'), ('촬영 장소', '실내')])]], '30009189': [OrderedDict([('성별', '암컷'), ('나이(개월)', '48'), ('촬영 장소', '실내')]), [OrderedDict([('성별', '수컷'), ('나이(개월)', '72'), ('촬영 장소', '실내')])], [OrderedDict([('성별', '수컷'), ('나이(개월)', '20'), ('촬영 장소', '실내')])], [OrderedDict([('성별', '수컷'), ('나이(개월)', '144'), ('촬영 장소', '실내')])], [OrderedDict([('성별', '수컷'), ('나이(개월)', '20'), ('촬영 장소', '실내')])]], '29778525': [OrderedDict([('성별', '수컷'), ('나이(개월)', '18'), ('촬영 장소', '실내')]), [OrderedDict([('성별', '수컷'), ('나이(개월)', '24'), ('촬영 장소', '실외')])], [OrderedDict([('성별', '수컷'), ('나이(개월)', '6'), ('촬영 장소', '실내')])], [OrderedDict([('성별', '암컷'), ('나이(개월)', '18'), ('촬영 장소', '실내')])]], '29793292': [OrderedDict([('성별', '암컷'), ('나이(개월)', '120'), ('촬영 장소', '실내')]), [OrderedDict([('성별', '수컷'), ('나이(개월)', '43'), ('촬영 장소', '실외')])], [OrderedDict([('성별', '수컷'), ('나이(개월)', '77'), ('촬영 장소', '실내')])], [OrderedDict([('성별', '수컷'), ('나이(개월)', '100'), ('촬영 장소', '실내')])]], '30091656': [OrderedDict([('성별', '수컷'), ('나이(개월)', '20'), ('촬영 장소', '실내')]), [OrderedDict([('성별', '수컷'), ('나이(개월)', '144'), ('촬영 장소', '실외')])], [OrderedDict([('성별', '수컷'), ('나이(개월)', '6'), ('촬영 장소', '실내')])], [OrderedDict([('성별', '수컷'), ('나이(개월)', '2'), ('촬영 장소', '실외')])], [OrderedDict([('성별', '수컷'), ('나이(개월)', '14'), ('촬영 장소', '실내')])], [OrderedDict([('성별', '수컷'), ('나이(개월)', '20'), ('촬영 장소', '실내')])], [OrderedDict([('성별', '수컷'), ('나이(개월)', '6'), ('촬영 장소', '실내')])]], '29810908': [OrderedDict([('성별', '수컷'), ('나이(개월)', '48'), ('촬영 장소', '실내')])]}\n"
          ]
        }
      ]
    },
    {
      "cell_type": "markdown",
      "source": [
        ""
      ],
      "metadata": {
        "id": "n0UrFbWbhZCI"
      }
    },
    {
      "cell_type": "markdown",
      "metadata": {
        "id": "ZxAHu8SZRmSd"
      },
      "source": [
        "**2\\. json 형식의 파일을 csv 형식으로 변환하는 Python 코드를 작성하는 문제입니다.**<br>\n",
        "[문제 2] 부분을 실행시켜, problem_2_input.json 파일을 다운로드 받아, 'results' 부분을 보고, field에서 선택된 object와 color 정보가 담긴 csv파일을 출력하는 python 코드를 작성해 주세요. \n",
        "\n",
        "[샘플 2]부분의 예시 파일을 다운로드해서 json과, 결과 csv 파일 형식을 참고해 주세요.<br>\n",
        "\n",
        "* 출력할 때는 각 object의 label 값을 출력해야함.\n",
        "* label 값은 field 부분을 참고\n",
        "* color의 경우, false는 선택되지 않은 값을 뜻함.\n",
        "* color의 경우, 2가지 이상의 값을 가질 수 있음.<br> color 값 json 내용 예)\n",
        "```\n",
        "\"color\": [\n",
        "    1,\n",
        "    false,\n",
        "    3,\n",
        "    false,\n",
        "]\n",
        "```\n",
        "\n",
        "[결과물 제출]에 변환 코드를 작성해 주세요."
      ]
    },
    {
      "cell_type": "code",
      "metadata": {
        "id": "UrXPLuos2S2g"
      },
      "source": [
        "# [샘플 2]\n",
        "# 해당 부분 실행 후, 예시 입출력 파일을 확인해보실 수 있습니다.\n",
        "# 생성한 파일은 왼쪽 맨 아래 폴더 모양 아이콘에서 확인할 수 있습니다. (위치: /content)\n",
        "\n",
        "!wget https://storage.googleapis.com/cw-downloads/coding_test/problem_2_sample_input.json\n",
        "!wget https://storage.googleapis.com/cw-downloads/coding_test/problem_2_sample_output.csv"
      ],
      "execution_count": null,
      "outputs": []
    },
    {
      "cell_type": "code",
      "metadata": {
        "id": "LwyJJ8M73ROc"
      },
      "source": [
        "# [문제 2]\n",
        "# 문제 json 파일 다운로드 실행 명령어\n",
        "!wget https://storage.googleapis.com/cw-downloads/coding_test/problem_2_input.json"
      ],
      "execution_count": null,
      "outputs": []
    },
    {
      "cell_type": "code",
      "metadata": {
        "id": "l-TjPIYKYptX",
        "colab": {
          "base_uri": "https://localhost:8080/"
        },
        "outputId": "312feeee-eb85-4e2c-9455-128e0b3d7522"
      },
      "source": [
        "# [결과물 제출]\n",
        "# 여기에 자유롭게 코드를 작성해서 수행하시면 됩니다.\n",
        "import pandas as pd\n",
        "import numpy as np\n",
        "\n",
        "import csv\n",
        "import json\n",
        "\n",
        "\n",
        "\n",
        "input_file_path = '/content/problem_2_input.csv'\n",
        "\n",
        "\n",
        "\n",
        "\n",
        "with open( '/content/problem_2_input.json', 'r',encoding='utf-8') as f:\n",
        "\n",
        "    json_data = json.load(f)\n",
        "\n",
        "print(json.dumps(json_data) )\n",
        "print(type(json_data))\n",
        "\n",
        "json_data\n",
        "data=[]\n",
        "\n",
        "out=pd.DataFrame(data,columns=['object','color'])\n",
        "obj=['object']\n",
        "color=['color']\n",
        "for i in range(len(json_data['results'])):\n",
        "    \n",
        "    for j in range(len(json_data['fields'][0]['values']['children'])):\n",
        "        \n",
        "        if json_data['results'][i]['object']==json_data['fields'][0]['values']['children'][j]['value']:\n",
        "            \n",
        "            obj.append(json_data['fields'][0]['values']['children'][j]['label'])\n",
        "            \n",
        "    str=[]        \n",
        "    for j in range(len(json_data['fields'][1]['values']['children'])):\n",
        "        \n",
        "        if json_data['results'][i]['color'][j]==json_data['fields'][1]['values']['children'][j]['value']:\n",
        "\n",
        "            str.append(json_data['fields'][1]['values']['children'][j]['label'])\n",
        "            \n",
        "        if j==len(json_data['fields'][1]['values']['children'])-1:\n",
        "            color.append(str)\n",
        "    \n",
        "out['object']=obj\n",
        "out['color']=color\n",
        "\n",
        "dataframe=pd.DataFrame(out)\n",
        "dataframe.to_csv('/content/proble_2_output.csv',header=False,index=False)\n",
        "\n",
        "\n",
        "\n",
        "\n"
      ],
      "execution_count": null,
      "outputs": [
        {
          "output_type": "stream",
          "name": "stdout",
          "text": [
            "{\"fields\": [{\"id\": 999, \"name\": \"Group\", \"uid\": \"QWHUM4\", \"values\": {\"label\": \"object\", \"name\": \"object\", \"children\": [{\"label\": \"\\uc0ac\\ub78c\", \"value\": \"1\"}, {\"label\": \"\\uc561\\uc790\", \"value\": \"2\"}, {\"label\": \"\\uc758\\uc790\", \"value\": \"3\"}, {\"label\": \"\\ucc45\\uc0c1\", \"value\": \"4\"}], \"condition\": {\"targetId\": \"\", \"targetUid\": \"\", \"operator\": \"\", \"targetValue\": \"\", \"selectValue\": \"\"}}, \"updateDate\": 1639642191982}, {\"id\": 999, \"name\": \"Group\", \"uid\": \"7B1FTN\", \"values\": {\"label\": \"color\", \"name\": \"color\", \"minSelectLength\": \"\", \"maxSelectLength\": \"2\", \"children\": [{\"label\": \"\\ube68\\uac15\", \"value\": \"1\"}, {\"label\": \"\\ud30c\\ub791\", \"value\": \"2\"}, {\"label\": \"\\ucd08\\ub85d\", \"value\": \"3\"}, {\"label\": \"\\ub178\\ub791\", \"value\": \"4\"}]}, \"updateDate\": 1639642282081}], \"results\": [{\"object\": \"3\", \"color\": [\"1\", false, \"3\", false]}, {\"object\": \"1\", \"color\": [false, false, \"3\", false]}, {\"object\": \"1\", \"color\": [false, false, false, \"4\"]}, {\"object\": \"2\", \"color\": [\"1\", false, false, \"4\"]}, {\"object\": \"2\", \"color\": [false, false, \"3\", \"4\"]}], \"works\": {\"dataId\": \"dataId\", \"sourceId\": \"sourceId\", \"workerName\": \"Worker\", \"checkerName\": \"Checker\", \"histories\": [], \"version\": {\"build\": \"1.11.2\", \"result\": \"1.5\"}}}\n",
            "<class 'dict'>\n"
          ]
        }
      ]
    },
    {
      "cell_type": "markdown",
      "metadata": {
        "id": "W9ZXbnIBSU65"
      },
      "source": [
        "**3\\. 배열 처리 알고리즘을 구현하는 문제입니다.**\n",
        "\n",
        "주어진 숫자 배열 **array**에서 \n",
        "* **i** 번째부터 **j** 번째까지 자르고 \n",
        "* 정렬 후, \n",
        "* **k** 번째에 있는 수를 구하는 문제입니다.\n",
        "\n",
        "예를 들어 주어진 array가 [1, 5, 2, 6, 3, 7, 4]이고, i = 2, j = 5, k = 3이라면,\n",
        "* array의 i=2 번째부터 j=5 번째까지 자르면 [5, 2, 6, 3]입니다.\n",
        "* 자른 부분 배열을 정렬하면 [2, 3, 5, 6]입니다.\n",
        "* 정렬된 부분 배열의 k=3 번째 숫자는 5입니다.\n",
        "\n",
        "\\[결과물 제출\\] 부분에 주어진 array와 commands 변수 활용해서 \"# TODO: \" 위치에 코드를 완성해 주세요:\n",
        "* 배열 array와\n",
        "* [i, j, k]를 원소로 하는 2차원 배열 commands가 매개변수로 주어질 때,\n",
        "* commands의 모든 원소에 대해 앞서 설명한 연산을 적용했을 때 나온 결과를 **배열에 담아** return 하는 함수 내용을 구현해주세요. \n",
        "* 작성 후 실행 시, 정답일 경우, \"정답입니다.\"라는 메세지가 나옵니다."
      ]
    },
    {
      "cell_type": "code",
      "metadata": {
        "id": "kxECjRwzH3ut",
        "colab": {
          "base_uri": "https://localhost:8080/"
        },
        "outputId": "013eb227-7b7f-4fd4-a9e4-b6af9e60c14b"
      },
      "source": [
        "# [결과물 제출]\n",
        "# 아래 코드 중 \"# TODO:\" 부분에 자유롭게 코드를 작성해서 수행하시면 됩니다.\n",
        "array = [1, 5, 2, 6, 3, 7, 4]\n",
        "commands = [[2, 5, 3], [4, 4, 1], [1, 7, 3]]\n",
        "\n",
        "def solution(a, c):\n",
        "  answer=[]\n",
        "  for j in range(len(c)):\n",
        "      temp=[]\n",
        "      for i in range(c[j][0]-1,c[j][1]):\n",
        "          temp.append(a[i])\n",
        "         \n",
        "      temp.sort()\n",
        "      k=c[j][2]-1\n",
        "      key=temp[k]\n",
        "      answer.append(key)\n",
        "  return answer\n",
        "\n",
        "if solution(array, commands) == [5,6,3]:\n",
        "  print(\"정답입니다.\")\n",
        "else : \n",
        "  print(\"틀렸습니다.\")"
      ],
      "execution_count": null,
      "outputs": [
        {
          "output_type": "stream",
          "name": "stdout",
          "text": [
            "정답입니다.\n"
          ]
        }
      ]
    }
  ]
}